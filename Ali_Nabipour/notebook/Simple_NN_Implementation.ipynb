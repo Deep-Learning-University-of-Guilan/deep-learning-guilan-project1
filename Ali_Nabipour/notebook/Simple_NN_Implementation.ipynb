{
  "cells": [
    {
      "cell_type": "markdown",
      "metadata": {
        "id": "TopdEIaCyasv"
      },
      "source": [
        "# ***Libraries & Constants***"
      ]
    },
    {
      "cell_type": "code",
      "execution_count": null,
      "metadata": {
        "id": "8wXLgz_EYiFr"
      },
      "outputs": [],
      "source": [
        "import os\n",
        "import pandas as pd\n",
        "import seaborn as sns\n",
        "import numpy as np\n",
        "\n",
        "from sklearn.preprocessing import LabelEncoder, StandardScaler\n",
        "from sklearn.model_selection import train_test_split\n",
        "\n",
        "from matplotlib import pyplot as plt"
      ]
    },
    {
      "cell_type": "code",
      "execution_count": null,
      "metadata": {
        "colab": {
          "base_uri": "https://localhost:8080/"
        },
        "id": "lirSlJSTYqd6",
        "outputId": "77eefc60-db74-4e09-8274-d7748181bb57"
      },
      "outputs": [],
      "source": [
        "!gdown --id 1-Zyp-JP3f9QhPKaErBkPPFNKaPS1v74u"
      ]
    },
    {
      "cell_type": "code",
      "execution_count": null,
      "metadata": {
        "id": "WrvvhoNxYtkt"
      },
      "outputs": [],
      "source": [
        "categorical_attr = ['gender', 'NationalITy', 'PlaceofBirth', 'StageID', 'GradeID', 'SectionID', 'Topic', 'Semester', 'Relation', 'ParentAnsweringSurvey', 'ParentschoolSatisfaction', 'StudentAbsenceDays']"
      ]
    },
    {
      "cell_type": "markdown",
      "metadata": {
        "id": "iZ0yQWRPY2vx"
      },
      "source": [
        "# ***Preprocessing***\n",
        "\n",
        "Reading & displaying data:"
      ]
    },
    {
      "cell_type": "code",
      "execution_count": null,
      "metadata": {
        "colab": {
          "base_uri": "https://localhost:8080/",
          "height": 270
        },
        "id": "BVPm_CFfYxjw",
        "outputId": "a2fc5423-5529-4523-a1ae-0e767de554fd"
      },
      "outputs": [],
      "source": [
        "df = pd.read_csv('/content/Dataset.csv')\n",
        "df.head()"
      ]
    },
    {
      "cell_type": "code",
      "execution_count": null,
      "metadata": {
        "colab": {
          "base_uri": "https://localhost:8080/"
        },
        "id": "oDkmtX73p6S1",
        "outputId": "f872ffea-0ea5-4a3e-f008-00314663b1b0"
      },
      "outputs": [],
      "source": [
        "df.loc[(df[\"Class\"] == \"M\") | (df[\"Class\"] == \"H\"), \"Class\"] = 1\n",
        "df.loc[df[\"Class\"] == \"L\", \"Class\"] = 0\n",
        "print(df.shape)"
      ]
    },
    {
      "cell_type": "code",
      "execution_count": null,
      "metadata": {
        "id": "taUy4jmjZJRN"
      },
      "outputs": [],
      "source": [
        "# X: Features, y: Classes\n",
        "y = np.array(df['Class'])\n",
        "X = np.array(pd.get_dummies(df.iloc[:, :-1])).astype(\"float\")"
      ]
    },
    {
      "cell_type": "code",
      "execution_count": null,
      "metadata": {
        "id": "nBMIXI-aZKGw"
      },
      "outputs": [],
      "source": [
        "# Deviding Dataset to training and validation set\n",
        "X_train, X_val, y_train, y_val = train_test_split(X, y, test_size=0.2, random_state=12)\n",
        "normalizer = StandardScaler()\n",
        "X_train = normalizer.fit_transform(X_train)\n",
        "X_val = normalizer.transform(X_val)"
      ]
    },
    {
      "cell_type": "code",
      "execution_count": null,
      "metadata": {
        "colab": {
          "base_uri": "https://localhost:8080/"
        },
        "id": "jEozQo3ZZe74",
        "outputId": "3a950a35-830c-46f5-fab0-65771c420b6f"
      },
      "outputs": [],
      "source": [
        "print('Number of dataset: ', len(X))\n",
        "print('Number of train set: ', len(X_train))\n",
        "print('Number of validation set: ', len(X_val))"
      ]
    },
    {
      "cell_type": "markdown",
      "metadata": {
        "id": "p8uXlAKL0fpU"
      },
      "source": [
        "# ***Implementing Model***"
      ]
    },
    {
      "cell_type": "code",
      "execution_count": null,
      "metadata": {
        "id": "DfxkIrA_0kkn"
      },
      "outputs": [],
      "source": [
        "class FCLayer:\n",
        "  def __init__(self, input_size, output_size, landa = 0.00, random=True):\n",
        "    self.landa = landa\n",
        "    if random:\n",
        "      # Xavier Glorot Initialization\n",
        "      limit = np.sqrt(2 / float(input_size + output_size))\n",
        "      self.weights = np.random.normal(0.0, limit, size=(input_size, output_size))\n",
        "      self.bias = np.random.normal(0.0, limit, size=(1, output_size))\n",
        "    else:\n",
        "      self.weights = np.zeros((input_size, output_size)) + 1e-15\n",
        "      self.bias = np.zeros((1, output_size)) + 1e-15\n",
        "\n",
        "  def forward(self, input):\n",
        "    self.input = input\n",
        "    return np.dot(input, self.weights) + self.bias\n",
        "    \n",
        "  def backward(self, output_error, learning_rate):\n",
        "    input_error = np.dot(output_error, self.weights.T)\n",
        "    weights_error = np.dot(self.input.T, output_error) + (self.landa * (self.weights))\n",
        "\n",
        "    self.weights -= learning_rate * weights_error\n",
        "    self.bias -= learning_rate * output_error\n",
        "    return input_error"
      ]
    },
    {
      "cell_type": "code",
      "execution_count": null,
      "metadata": {
        "id": "ES6PDzTquLIi"
      },
      "outputs": [],
      "source": [
        "class SigmoidLayer:\n",
        "  def dsigmoid(self, input):\n",
        "    return np.exp(-self.input) / (1 + np.exp(-self.input))**2\n",
        "\n",
        "  def forward(self, input):\n",
        "    self.input = input\n",
        "    return 1 / (1 + np.exp(-input))\n",
        "    \n",
        "  def backward(self, output_error, dummy):\n",
        "    return output_error * self.dsigmoid(self.input)"
      ]
    },
    {
      "cell_type": "code",
      "execution_count": null,
      "metadata": {
        "id": "WsTcd3j5zbZH"
      },
      "outputs": [],
      "source": [
        "class BinaryCrossEntropy:\n",
        "  def __call__(self, y_true, y_pred, epsilon=1e-15):\n",
        "    return -(y_true * (np.log(y_pred + epsilon)) + (1-y_true) * np.log((1 - y_pred) + epsilon))\n",
        "  \n",
        "  def backward(self, y_true, y_pred):\n",
        "    l = -(y_true / y_pred) + ((1-y_true) / (1-y_pred))\n",
        "    if np.isnan(l):\n",
        "      return 0\n",
        "    elif np.isinf(l):\n",
        "      return 1\n",
        "    else:\n",
        "      return l"
      ]
    },
    {
      "cell_type": "code",
      "execution_count": null,
      "metadata": {
        "id": "fZwRaafzBeMo"
      },
      "outputs": [],
      "source": [
        "class NeuralNetwork:\n",
        "  def __init__(self, layers):\n",
        "    self.model = layers\n",
        "\n",
        "  def compile(self, lossfunc, metrics):\n",
        "    self.lossfunc = lossfunc\n",
        "    self.metrics = metrics\n",
        "\n",
        "  def fit(self, X, Y, EPOCHS, learning_rate, validation_data=None):\n",
        "    accs = []\n",
        "    losses = []\n",
        "    accs_val = []\n",
        "    losses_val = []\n",
        "    \n",
        "\n",
        "    for epoch in range(EPOCHS):\n",
        "      acc = 0\n",
        "      loss = 0\n",
        "      for x, y_true in zip(X, Y):\n",
        "        # Forward Phase\n",
        "        x = x.reshape(1, -1)\n",
        "        output = x \n",
        "        for layer in self.model:\n",
        "          output = layer.forward(output)\n",
        "        prediction = 1 if output > 0.5 else 0\n",
        "        \n",
        "        # Loss Function\n",
        "        loss += self.lossfunc(y_true, output)\n",
        "        acc += 1 if prediction == y_true else 0\n",
        "\n",
        "        # Backward Phase\n",
        "        output_error = self.lossfunc.backward(y_true, output)\n",
        "        for layer in reversed(self.model):\n",
        "            output_error = layer.backward(output_error, learning_rate)\n",
        "      \n",
        "      # training data\n",
        "      acc /= len(X)\n",
        "      loss /= len(X)\n",
        "      accs.append(acc)\n",
        "      losses.append(loss.item())\n",
        "          \n",
        "\n",
        "      # validation data\n",
        "      if validation_data:\n",
        "        lossval, accval = self.evaluate(validation_data[0], validation_data[1])\n",
        "        accs_val.append(accval)\n",
        "        losses_val.append(lossval)\n",
        "        if epoch % 10 == 0:\n",
        "          print(f\"{epoch+1}/{EPOCHS}, loss={loss.item():.2f}, accuracy={acc:.2f}, validation loss={lossval:.2f}, validation accuracy={accval:.2f}\")\n",
        "      else:\n",
        "        if epoch % 10 == 0:\n",
        "          print(f\"{epoch+1}/{EPOCHS}, loss={loss.item():.2f}, accuracy={acc:.2f}\")\n",
        "\n",
        "    if validation_data:\n",
        "      return losses, accs, losses_val, accs_val\n",
        "    return losses, accs\n",
        "    \n",
        "  def evaluate(self, X, Y):\n",
        "    acc = 0\n",
        "    loss = 0\n",
        "    for x, y_true in zip(X, Y):\n",
        "      # Forward Phase\n",
        "      x = x.reshape(1, -1)\n",
        "      output = x \n",
        "      for layer in self.model:\n",
        "        output = layer.forward(output)\n",
        "\n",
        "      pred = 1 if output > 0.5 else 0\n",
        "      \n",
        "      # Loss Function\n",
        "      loss += self.lossfunc(y_true, output)\n",
        "      acc += 1 if pred == y_true else 0\n",
        "    acc /= len(X)\n",
        "    return loss.item() / len(X), acc"
      ]
    },
    {
      "cell_type": "markdown",
      "metadata": {
        "id": "PT4J_POH0lbD"
      },
      "source": [
        "# ***Training the model***"
      ]
    },
    {
      "cell_type": "markdown",
      "metadata": {
        "id": "52scoHYIeJHB"
      },
      "source": [
        "## 2 Layer random initialized"
      ]
    },
    {
      "cell_type": "code",
      "execution_count": null,
      "metadata": {
        "colab": {
          "base_uri": "https://localhost:8080/",
          "height": 1000
        },
        "id": "NJQUZYLP0yf4",
        "outputId": "d54f0b1c-098b-488f-f897-a7afdcbcd8e9"
      },
      "outputs": [],
      "source": [
        "model = NeuralNetwork([\n",
        "         FCLayer(X_train.shape[1], 1, random=True),\n",
        "         SigmoidLayer(),\n",
        "])\n",
        "\n",
        "model.compile(BinaryCrossEntropy(), [\"accuracy\"])\n",
        "\n",
        "losses, accs, losses_val, accs_val = model.fit(X_train,\n",
        "          y_train,\n",
        "          EPOCHS=1000,\n",
        "          learning_rate=0.01,\n",
        "          validation_data=(X_val, y_val)\n",
        "          )"
      ]
    },
    {
      "cell_type": "code",
      "execution_count": null,
      "metadata": {
        "colab": {
          "base_uri": "https://localhost:8080/",
          "height": 647
        },
        "id": "i50ZGgyKijeO",
        "outputId": "7c044ddf-2840-4f34-dfb1-e1414f2bc315"
      },
      "outputs": [],
      "source": [
        "figure, axis = plt.subplots(2, 2, figsize=(20, 10))\n",
        "\n",
        "axis[0][0].plot(losses)\n",
        "axis[0][0].legend([\"training loss\"])\n",
        "\n",
        "axis[0][1].plot(accs)\n",
        "axis[0][1].legend([\"training accuracy\"])\n",
        "\n",
        "axis[1][0].plot(losses_val)\n",
        "axis[1][0].legend([\"validation loss\"])\n",
        "\n",
        "axis[1][1].plot(accs_val)\n",
        "axis[1][1].legend([\"validation accuracy\"])\n",
        "\n",
        "lossa, acca =  model.evaluate(X_val, y_val)\n",
        "\n",
        "print(\"Model loss on validaiton dataste:\", lossa)\n",
        "print(\"Model accuracy on validaiton dataste:\", acca)\n",
        "print(\"Maximum accuracy before overfit happening:\", max(accs_val))\n",
        "\n",
        "plt.savefig('2layer_r.png', bbox_inches='tight')"
      ]
    },
    {
      "cell_type": "markdown",
      "metadata": {
        "id": "kEP3IsVNeb_6"
      },
      "source": [
        "## 2 layer zero initialized"
      ]
    },
    {
      "cell_type": "code",
      "execution_count": null,
      "metadata": {
        "colab": {
          "base_uri": "https://localhost:8080/"
        },
        "id": "S7OSwV3AecdL",
        "outputId": "4a5c5400-fd6f-4514-e732-a543226ddeb2"
      },
      "outputs": [],
      "source": [
        "model = NeuralNetwork([\n",
        "         FCLayer(X_train.shape[1], 1, random=False),\n",
        "         SigmoidLayer(),\n",
        "])\n",
        "\n",
        "model.compile(BinaryCrossEntropy(), [\"accuracy\"])\n",
        "\n",
        "losses, accs, losses_val, accs_val = model.fit(X_train,\n",
        "          y_train,\n",
        "          EPOCHS=100,\n",
        "          learning_rate=0.01,\n",
        "          validation_data=(X_val, y_val)\n",
        "          )"
      ]
    },
    {
      "cell_type": "code",
      "execution_count": null,
      "metadata": {
        "colab": {
          "base_uri": "https://localhost:8080/",
          "height": 647
        },
        "id": "ppn_6BFJeYp6",
        "outputId": "c496eac8-5827-46a6-ac05-2dccdb996e64"
      },
      "outputs": [],
      "source": [
        "figure, axis = plt.subplots(2, 2, figsize=(20, 10))\n",
        "\n",
        "axis[0][0].plot(losses)\n",
        "axis[0][0].legend([\"training loss\"])\n",
        "\n",
        "axis[0][1].plot(accs)\n",
        "axis[0][1].legend([\"training accuracy\"])\n",
        "\n",
        "axis[1][0].plot(losses_val)\n",
        "axis[1][0].legend([\"validation loss\"])\n",
        "\n",
        "axis[1][1].plot(accs_val)\n",
        "axis[1][1].legend([\"validation accuracy\"])\n",
        "\n",
        "lossa, acca =  model.evaluate(X_val, y_val)\n",
        "\n",
        "print(\"Model loss on validaiton dataste:\", lossa)\n",
        "print(\"Model accuracy on validaiton dataste:\", acca)\n",
        "print(\"Maximum accuracy before overfit happening:\", max(accs_val))\n",
        "\n",
        "plt.savefig('2layer_z.png', bbox_inches='tight')\n"
      ]
    },
    {
      "cell_type": "markdown",
      "metadata": {
        "id": "zPIeZ06WjAlP"
      },
      "source": [
        "## 3 Layer random initialized"
      ]
    },
    {
      "cell_type": "code",
      "execution_count": null,
      "metadata": {
        "colab": {
          "base_uri": "https://localhost:8080/"
        },
        "id": "LUyqLFhAjAlP",
        "outputId": "2434c44c-0c8f-40a6-9b30-9d688f4192c3"
      },
      "outputs": [],
      "source": [
        "model = NeuralNetwork([\n",
        "         FCLayer(X_train.shape[1], 32, random=True),\n",
        "         SigmoidLayer(),\n",
        "         FCLayer(32, 1, random=True),\n",
        "         SigmoidLayer(),\n",
        "])\n",
        "\n",
        "model.compile(BinaryCrossEntropy(), [\"accuracy\"])\n",
        "\n",
        "losses, accs, losses_val, accs_val = model.fit(X_train,\n",
        "          y_train,\n",
        "          EPOCHS=200,\n",
        "          learning_rate=0.01,\n",
        "          validation_data=(X_val, y_val)\n",
        "          )"
      ]
    },
    {
      "cell_type": "code",
      "execution_count": null,
      "metadata": {
        "colab": {
          "base_uri": "https://localhost:8080/",
          "height": 647
        },
        "id": "tbWYze0GjAlP",
        "outputId": "6ad8bd10-2b30-4b4f-f9b4-d99f1e0a3cd5"
      },
      "outputs": [],
      "source": [
        "figure, axis = plt.subplots(2, 2, figsize=(20, 10))\n",
        "\n",
        "axis[0][0].plot(losses)\n",
        "axis[0][0].legend([\"training loss\"])\n",
        "\n",
        "axis[0][1].plot(accs)\n",
        "axis[0][1].legend([\"training accuracy\"])\n",
        "\n",
        "axis[1][0].plot(losses_val)\n",
        "axis[1][0].legend([\"validation loss\"])\n",
        "\n",
        "axis[1][1].plot(accs_val)\n",
        "axis[1][1].legend([\"validation accuracy\"])\n",
        "\n",
        "lossa, acca =  model.evaluate(X_val, y_val)\n",
        "\n",
        "print(\"Model loss on validaiton dataste:\", lossa)\n",
        "print(\"Model accuracy on validaiton dataste:\", acca)\n",
        "print(\"Maximum accuracy before overfit happening:\", max(accs_val))\n",
        "\n",
        "plt.savefig('3layer_r.png', bbox_inches='tight')"
      ]
    },
    {
      "cell_type": "markdown",
      "metadata": {
        "id": "YAoy0pnsjAlQ"
      },
      "source": [
        "## 3 layer zero initialized"
      ]
    },
    {
      "cell_type": "code",
      "execution_count": null,
      "metadata": {
        "colab": {
          "base_uri": "https://localhost:8080/"
        },
        "id": "lSiH_XkCjAlQ",
        "outputId": "28eea27a-ed4c-41af-9186-b40f28fc8134"
      },
      "outputs": [],
      "source": [
        "model = NeuralNetwork([\n",
        "         FCLayer(X_train.shape[1], 32, random=False),\n",
        "         SigmoidLayer(),\n",
        "         FCLayer(32, 1, random=False),\n",
        "         SigmoidLayer(),\n",
        "])\n",
        "\n",
        "model.compile(BinaryCrossEntropy(), [\"accuracy\"])\n",
        "\n",
        "losses, accs, losses_val, accs_val = model.fit(X_train,\n",
        "          y_train,\n",
        "          EPOCHS=100,\n",
        "          learning_rate=0.01,\n",
        "          validation_data=(X_val, y_val)\n",
        "          )"
      ]
    },
    {
      "cell_type": "code",
      "execution_count": null,
      "metadata": {
        "colab": {
          "base_uri": "https://localhost:8080/",
          "height": 647
        },
        "id": "O-urqLA-jAlQ",
        "outputId": "e4c69f28-3b14-497c-db22-142135dcc58e"
      },
      "outputs": [],
      "source": [
        "figure, axis = plt.subplots(2, 2, figsize=(20, 10))\n",
        "\n",
        "axis[0][0].plot(losses)\n",
        "axis[0][0].legend([\"training loss\"])\n",
        "\n",
        "axis[0][1].plot(accs)\n",
        "axis[0][1].legend([\"training accuracy\"])\n",
        "\n",
        "axis[1][0].plot(losses_val)\n",
        "axis[1][0].legend([\"validation loss\"])\n",
        "\n",
        "axis[1][1].plot(accs_val)\n",
        "axis[1][1].legend([\"validation accuracy\"])\n",
        "\n",
        "lossa, acca =  model.evaluate(X_val, y_val)\n",
        "\n",
        "print(\"Model loss on validaiton dataste:\", lossa)\n",
        "print(\"Model accuracy on validaiton dataste:\", acca)\n",
        "print(\"Maximum accuracy before overfit happening:\", max(accs_val))\n",
        "\n",
        "plt.savefig('3layer_z.png', bbox_inches='tight')"
      ]
    },
    {
      "cell_type": "markdown",
      "metadata": {
        "id": "IazEY6ohoytM"
      },
      "source": [
        "## 5 Layer random initialized"
      ]
    },
    {
      "cell_type": "code",
      "execution_count": null,
      "metadata": {
        "colab": {
          "base_uri": "https://localhost:8080/"
        },
        "id": "m04vZVsqoytM",
        "outputId": "b7cf4d0d-f56e-4e87-bbb8-c9258945700f"
      },
      "outputs": [],
      "source": [
        "model = NeuralNetwork([\n",
        "         FCLayer(X_train.shape[1], 32, random=True),\n",
        "         SigmoidLayer(),\n",
        "         FCLayer(32, 32, random=True),\n",
        "         SigmoidLayer(),\n",
        "         FCLayer(32, 32, random=True),\n",
        "         SigmoidLayer(),\n",
        "         FCLayer(32, 1, random=True),\n",
        "         SigmoidLayer(),\n",
        "])\n",
        "\n",
        "model.compile(BinaryCrossEntropy(), [\"accuracy\"])\n",
        "\n",
        "losses, accs, losses_val, accs_val = model.fit(X_train,\n",
        "          y_train,\n",
        "          EPOCHS=400,\n",
        "          learning_rate=0.01,\n",
        "          validation_data=(X_val, y_val)\n",
        "          )"
      ]
    },
    {
      "cell_type": "code",
      "execution_count": null,
      "metadata": {
        "colab": {
          "base_uri": "https://localhost:8080/",
          "height": 647
        },
        "id": "JxzGM0KPoytM",
        "outputId": "a7dca3e5-15f7-49a5-949b-28a2a840ff01"
      },
      "outputs": [],
      "source": [
        "figure, axis = plt.subplots(2, 2, figsize=(20, 10))\n",
        "\n",
        "axis[0][0].plot(losses)\n",
        "axis[0][0].legend([\"training loss\"])\n",
        "\n",
        "axis[0][1].plot(accs)\n",
        "axis[0][1].legend([\"training accuracy\"])\n",
        "\n",
        "axis[1][0].plot(losses_val)\n",
        "axis[1][0].legend([\"validation loss\"])\n",
        "\n",
        "axis[1][1].plot(accs_val)\n",
        "axis[1][1].legend([\"validation accuracy\"])\n",
        "\n",
        "lossa, acca =  model.evaluate(X_val, y_val)\n",
        "\n",
        "print(\"Model loss on validaiton dataste:\", lossa)\n",
        "print(\"Model accuracy on validaiton dataste:\", acca)\n",
        "print(\"Maximum accuracy before overfit happening:\", max(accs_val))\n",
        "\n",
        "plt.savefig('5layer_r.png', bbox_inches='tight')"
      ]
    },
    {
      "cell_type": "markdown",
      "metadata": {
        "id": "A5IJ3DjToytM"
      },
      "source": [
        "## 5 layer zero initialized"
      ]
    },
    {
      "cell_type": "code",
      "execution_count": null,
      "metadata": {
        "colab": {
          "base_uri": "https://localhost:8080/"
        },
        "id": "n_QJWTkDoytM",
        "outputId": "99582089-32e7-4efa-9339-500e66079081"
      },
      "outputs": [],
      "source": [
        "model = NeuralNetwork([\n",
        "         FCLayer(X_train.shape[1], 32, random=False),\n",
        "         SigmoidLayer(),\n",
        "         FCLayer(32, 32, random=False),\n",
        "         SigmoidLayer(),\n",
        "         FCLayer(32, 32, random=False),\n",
        "         SigmoidLayer(),\n",
        "         FCLayer(32, 1, random=False),\n",
        "         SigmoidLayer(),\n",
        "])\n",
        "\n",
        "model.compile(BinaryCrossEntropy(), [\"accuracy\"])\n",
        "\n",
        "losses, accs, losses_val, accs_val = model.fit(X_train,\n",
        "          y_train,\n",
        "          EPOCHS=300,\n",
        "          learning_rate=0.01,\n",
        "          validation_data=(X_val, y_val)\n",
        "          )"
      ]
    },
    {
      "cell_type": "code",
      "execution_count": null,
      "metadata": {
        "colab": {
          "base_uri": "https://localhost:8080/"
        },
        "id": "RvUsZLyloytN",
        "outputId": "dcd47574-2515-4716-88a3-1c55d6828ebe"
      },
      "outputs": [],
      "source": [
        "figure, axis = plt.subplots(2, 2, figsize=(20, 10))\n",
        "\n",
        "axis[0][0].plot(losses)\n",
        "axis[0][0].legend([\"training loss\"])\n",
        "\n",
        "axis[0][1].plot(accs)\n",
        "axis[0][1].legend([\"training accuracy\"])\n",
        "\n",
        "axis[1][0].plot(losses_val)\n",
        "axis[1][0].legend([\"validation loss\"])\n",
        "\n",
        "axis[1][1].plot(accs_val)\n",
        "axis[1][1].legend([\"validation accuracy\"])\n",
        "\n",
        "lossa, acca =  model.evaluate(X_val, y_val)\n",
        "\n",
        "print(\"Model loss on validaiton dataste:\", lossa)\n",
        "print(\"Model accuracy on validaiton dataste:\", acca)\n",
        "print(\"Maximum accuracy before overfit happening:\", max(accs_val))\n",
        "\n",
        "plt.savefig('5layer_z.png', bbox_inches='tight')"
      ]
    }
  ],
  "metadata": {
    "colab": {
      "collapsed_sections": [],
      "name": "Simple NN Implementation",
      "provenance": [],
      "toc_visible": true
    },
    "kernelspec": {
      "display_name": "Python 3",
      "name": "python3"
    },
    "language_info": {
      "name": "python"
    }
  },
  "nbformat": 4,
  "nbformat_minor": 0
}
